{
 "cells": [
  {
   "cell_type": "markdown",
   "metadata": {},
   "source": [
    "# Inspect script and extract functions and methods"
   ]
  },
  {
   "cell_type": "code",
   "execution_count": 2,
   "metadata": {},
   "outputs": [],
   "source": [
    "# https://docs.python.org/3/library/inspect.html#inspect.getdoc\n",
    "\n",
    "import inspect"
   ]
  },
  {
   "cell_type": "code",
   "execution_count": 5,
   "metadata": {},
   "outputs": [
    {
     "data": {
      "text/plain": [
       "<bound method Signature.from_function of <class 'inspect.Signature'>>"
      ]
     },
     "execution_count": 5,
     "metadata": {},
     "output_type": "execute_result"
    }
   ],
   "source": [
    "sig.from_function"
   ]
  },
  {
   "cell_type": "code",
   "execution_count": 7,
   "metadata": {},
   "outputs": [
    {
     "data": {
      "text/plain": [
       "'example_module'"
      ]
     },
     "execution_count": 7,
     "metadata": {},
     "output_type": "execute_result"
    }
   ],
   "source": [
    "inspect.getmodulename('example_module.py')\n",
    "#inspect.getdoc(object)"
   ]
  },
  {
   "cell_type": "markdown",
   "metadata": {},
   "source": [
    "# Create pytest skeleton"
   ]
  },
  {
   "cell_type": "code",
   "execution_count": 38,
   "metadata": {},
   "outputs": [],
   "source": [
    "import example_module\n",
    "methods = inspect.getmembers(example_module.Arithmetic, predicate=inspect.isfunction) # predicate=inspect.ismethod\n",
    "with open(\"test_example_module.py\",\"w\") as f:\n",
    "    for method in methods:\n",
    "        method_name = method[0]\n",
    "        method_signature = inspect.signature(method[1])\n",
    "        args = [arg for arg in method_signature.parameters.keys() if arg != 'self']\n",
    "        if args:\n",
    "            skeleton = (\n",
    "f\"\"\"\n",
    "class TestClass{method[0].capitalize()}():\n",
    "\n",
    "    @pytest.mark.parametrize(\n",
    "        \"params,expected\",\n",
    "        [\n",
    "            [\n",
    "                {{\n",
    "                    '{args[0]}': [0, 1, 2],\n",
    "                    '{args[1]}': [-1, -2, 3]\n",
    "                }},\n",
    "                [expected]\n",
    "                )\n",
    "            ]\n",
    "        ]\n",
    "    )\n",
    "    def test_return(self, params, expected):\n",
    "        assert example_module.Arithmetic.addition(params['{args[0]}'], params['{args[1]}']).equals(expected)\n",
    "            \"\"\"\n",
    ")\n",
    "            f.write(skeleton)"
   ]
  }
 ],
 "metadata": {
  "kernelspec": {
   "display_name": "Python 3",
   "language": "python",
   "name": "python3"
  }
 },
 "nbformat": 4,
 "nbformat_minor": 4
}
