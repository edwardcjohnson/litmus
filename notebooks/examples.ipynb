{
 "cells": [
  {
   "cell_type": "markdown",
   "metadata": {},
   "source": [
    "# Inspect script and extract functions and methods"
   ]
  },
  {
   "cell_type": "code",
   "execution_count": 2,
   "metadata": {},
   "outputs": [],
   "source": [
    "# https://docs.python.org/3/library/inspect.html#inspect.getdoc\n",
    "\n",
    "import inspect\n",
    "import sys"
   ]
  },
  {
   "cell_type": "code",
   "execution_count": 3,
   "metadata": {},
   "outputs": [],
   "source": [
    "# sig.from_function"
   ]
  },
  {
   "cell_type": "code",
   "execution_count": 4,
   "metadata": {},
   "outputs": [
    {
     "data": {
      "text/plain": [
       "'example_module'"
      ]
     },
     "execution_count": 4,
     "metadata": {},
     "output_type": "execute_result"
    }
   ],
   "source": [
    "inspect.getmodulename('example_module.py')\n",
    "#inspect.getdoc(object)"
   ]
  },
  {
   "cell_type": "markdown",
   "metadata": {},
   "source": [
    "# Create pytest skeleton"
   ]
  },
  {
   "cell_type": "code",
   "execution_count": 5,
   "metadata": {},
   "outputs": [],
   "source": [
    "def compose_test_class_skeleton(module, class_member, method, params_dict_str, params_function_str):\n",
    "    return (\n",
    "f\"\"\"\n",
    "class TestClass{method.capitalize()}():\n",
    "\n",
    "    @pytest.mark.parametrize(\n",
    "        \"params,expected\",\n",
    "        [\n",
    "            [\n",
    "                {{\n",
    "                    {params_dict_str}\n",
    "                }},\n",
    "                9\n",
    "            ]\n",
    "        ]\n",
    "    )\n",
    "    def test_return(self, params, expected):\n",
    "        import notebooks.{module} as {module}\n",
    "        assert {module}.{class_member}().{method}({params_function_str}) == expected\n",
    "\"\"\"\n",
    ")"
   ]
  },
  {
   "cell_type": "code",
   "execution_count": 6,
   "metadata": {},
   "outputs": [],
   "source": [
    "test_module_file = \"test_example_module.py\"\n",
    "module_file = \"example_module.py\"\n",
    "module = str(inspect.getmodulename(module_file))\n",
    "\n",
    "exec(f\"import {module}\")\n",
    "class_members = inspect.getmembers(sys.modules[module], inspect.isclass)\n",
    "\n",
    "skeleton = (\n",
    "f\"\"\"\n",
    "import pytest\n",
    "\"\"\"\n",
    ")\n",
    "for class_member in class_members:\n",
    "    method_members = inspect.getmembers(\n",
    "        class_member[1], predicate=inspect.isfunction) # predicate=inspect.ismethod\n",
    "    with open(test_module_file,\"w\") as f:\n",
    "        for method in method_members:\n",
    "            method_name = method[0]\n",
    "            method_signature = inspect.signature(method[1])\n",
    "            args = [arg for arg in method_signature.parameters.keys() if arg != 'self']\n",
    "            if args:\n",
    "                params_dict_str = params_function_str = \"\"\n",
    "\n",
    "                for i in range(len(args)):\n",
    "                    if i < len(args)-1:\n",
    "                        params_dict_str_end_format = \",\\n\\t\\t\\t\\t\\t\"\n",
    "                        params_function_str_end_format = \", \"\n",
    "                    else:\n",
    "                        params_dict_str_end_format = params_function_str_end_format = \"\"\n",
    "                    params_dict_str += f\"'{args[i]}': 3{params_dict_str_end_format}\"\n",
    "                    params_function_str += f\"params['{args[i]}']{params_function_str_end_format}\"\n",
    "\n",
    "\n",
    "                skeleton += compose_test_class_skeleton(module,class_member[0], method[0], params_dict_str, params_function_str)\n",
    "        f.write(skeleton)"
   ]
  },
  {
   "cell_type": "code",
   "execution_count": 7,
   "metadata": {},
   "outputs": [
    {
     "name": "stdout",
     "output_type": "stream",
     "text": [
      "Arithmetic\n"
     ]
    }
   ],
   "source": [
    "print(class_members[0][0])"
   ]
  },
  {
   "cell_type": "code",
   "execution_count": 38,
   "metadata": {},
   "outputs": [],
   "source": [
    "import example_module"
   ]
  },
  {
   "cell_type": "code",
   "execution_count": null,
   "metadata": {},
   "outputs": [],
   "source": []
  }
 ],
 "metadata": {
  "kernelspec": {
   "display_name": "Python 3",
   "language": "python",
   "name": "python3"
  },
  "language_info": {
   "codemirror_mode": {
    "name": "ipython",
    "version": 3
   },
   "file_extension": ".py",
   "mimetype": "text/x-python",
   "name": "python",
   "nbconvert_exporter": "python",
   "pygments_lexer": "ipython3",
   "version": "3.8.2"
  }
 },
 "nbformat": 4,
 "nbformat_minor": 4
}
