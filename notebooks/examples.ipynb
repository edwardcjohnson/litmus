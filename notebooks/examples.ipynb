{
 "cells": [
  {
   "cell_type": "markdown",
   "metadata": {},
   "source": [
    "# Inspect script and extract functions and methods"
   ]
  },
  {
   "cell_type": "code",
   "execution_count": 1,
   "metadata": {},
   "outputs": [],
   "source": [
    "# https://docs.python.org/3/library/inspect.html#inspect.getdoc\n",
    "\n",
    "import inspect"
   ]
  },
  {
   "cell_type": "code",
   "execution_count": 2,
   "metadata": {},
   "outputs": [],
   "source": [
    "# sig.from_function"
   ]
  },
  {
   "cell_type": "code",
   "execution_count": 3,
   "metadata": {},
   "outputs": [
    {
     "data": {
      "text/plain": [
       "'example_module'"
      ]
     },
     "execution_count": 3,
     "metadata": {},
     "output_type": "execute_result"
    }
   ],
   "source": [
    "inspect.getmodulename('example_module.py')\n",
    "#inspect.getdoc(object)"
   ]
  },
  {
   "cell_type": "markdown",
   "metadata": {},
   "source": [
    "# Create pytest skeleton"
   ]
  },
  {
   "cell_type": "code",
   "execution_count": 4,
   "metadata": {},
   "outputs": [],
   "source": [
    "def compose_test_class_skeleton(method, params_dict_str, params_function_str):\n",
    "    return (\n",
    "f\"\"\"\n",
    "class TestClass{method.capitalize()}():\n",
    "\n",
    "    @pytest.mark.parametrize(\n",
    "        \"params,expected\",\n",
    "        [\n",
    "            [\n",
    "                {{\n",
    "                    {params_dict_str}\n",
    "                }},\n",
    "                [expected]\n",
    "                )\n",
    "            ]\n",
    "        ]\n",
    "    )\n",
    "    def test_return(self, params, expected):\n",
    "        assert example_module.Arithmetic.addition({params_function_str}).equals(expected)\n",
    "\"\"\"\n",
    ")"
   ]
  },
  {
   "cell_type": "code",
   "execution_count": 6,
   "metadata": {},
   "outputs": [],
   "source": [
    "import example_module\n",
    "methods = inspect.getmembers(example_module.Arithmetic, predicate=inspect.isfunction) # predicate=inspect.ismethod\n",
    "with open(\"test_example_module.py\",\"w\") as f:\n",
    "    for method in methods:\n",
    "        method_name = method[0]\n",
    "        method_signature = inspect.signature(method[1])\n",
    "        args = [arg for arg in method_signature.parameters.keys() if arg != 'self']\n",
    "        if args:\n",
    "            params_dict_str = params_function_str = \"\"\n",
    "            \n",
    "            for i in range(len(args)):\n",
    "                if i < len(args)-1:\n",
    "                    params_dict_str_end_format = \",\\n\\t\\t\\t\\t\\t\"\n",
    "                    params_function_str_end_format = \", \"\n",
    "                else:\n",
    "                    params_dict_str_end_format = params_function_str_end_format = \"\"\n",
    "                params_dict_str += f\"'{args[i]}': [inputs]{params_dict_str_end_format}\"\n",
    "                params_function_str += f\"params['{args[i]}']{params_function_str_end_format}\"\n",
    "                \n",
    "            \n",
    "            skeleton = compose_test_class_skeleton(method[0], params_dict_str, params_function_str)\n",
    "            f.write(skeleton)"
   ]
  },
  {
   "cell_type": "code",
   "execution_count": null,
   "metadata": {},
   "outputs": [],
   "source": []
  }
 ],
 "metadata": {
  "kernelspec": {
   "display_name": "Python 3",
   "language": "python",
   "name": "python3"
  },
  "language_info": {
   "codemirror_mode": {
    "name": "ipython",
    "version": 3
   },
   "file_extension": ".py",
   "mimetype": "text/x-python",
   "name": "python",
   "nbconvert_exporter": "python",
   "pygments_lexer": "ipython3",
   "version": "3.8.2"
  }
 },
 "nbformat": 4,
 "nbformat_minor": 4
}
